{
  "nbformat": 4,
  "nbformat_minor": 0,
  "metadata": {
    "colab": {
      "provenance": [],
      "authorship_tag": "ABX9TyOBK1mgHZPr4JYJHO0MbMFE",
      "include_colab_link": true
    },
    "kernelspec": {
      "name": "python3",
      "display_name": "Python 3"
    },
    "language_info": {
      "name": "python"
    }
  },
  "cells": [
    {
      "cell_type": "markdown",
      "metadata": {
        "id": "view-in-github",
        "colab_type": "text"
      },
      "source": [
        "<a href=\"https://colab.research.google.com/github/dhikaainul/skripsi_analisis-sentimen_naive-bayes/blob/main/Tweet.ipynb\" target=\"_parent\"><img src=\"https://colab.research.google.com/assets/colab-badge.svg\" alt=\"Open In Colab\"/></a>"
      ]
    },
    {
      "cell_type": "code",
      "execution_count": 59,
      "metadata": {
        "colab": {
          "base_uri": "https://localhost:8080/"
        },
        "id": "XufSC9bn6tUD",
        "outputId": "7c511261-a2ce-49fb-db94-a0f101746967"
      },
      "outputs": [
        {
          "output_type": "stream",
          "name": "stdout",
          "text": [
            "Looking in indexes: https://pypi.org/simple, https://us-python.pkg.dev/colab-wheels/public/simple/\n",
            "Requirement already satisfied: tweepy in /usr/local/lib/python3.9/dist-packages (4.13.0)\n",
            "Requirement already satisfied: requests<3,>=2.27.0 in /usr/local/lib/python3.9/dist-packages (from tweepy) (2.27.1)\n",
            "Requirement already satisfied: oauthlib<4,>=3.2.0 in /usr/local/lib/python3.9/dist-packages (from tweepy) (3.2.2)\n",
            "Requirement already satisfied: requests-oauthlib<2,>=1.2.0 in /usr/local/lib/python3.9/dist-packages (from tweepy) (1.3.1)\n",
            "Requirement already satisfied: certifi>=2017.4.17 in /usr/local/lib/python3.9/dist-packages (from requests<3,>=2.27.0->tweepy) (2022.12.7)\n",
            "Requirement already satisfied: charset-normalizer~=2.0.0 in /usr/local/lib/python3.9/dist-packages (from requests<3,>=2.27.0->tweepy) (2.0.12)\n",
            "Requirement already satisfied: idna<4,>=2.5 in /usr/local/lib/python3.9/dist-packages (from requests<3,>=2.27.0->tweepy) (3.4)\n",
            "Requirement already satisfied: urllib3<1.27,>=1.21.1 in /usr/local/lib/python3.9/dist-packages (from requests<3,>=2.27.0->tweepy) (1.26.15)\n"
          ]
        }
      ],
      "source": [
        "!pip install tweepy"
      ]
    },
    {
      "cell_type": "code",
      "source": [
        "from google.colab import drive\n",
        "import tweepy\n",
        "import csv"
      ],
      "metadata": {
        "id": "5KIPV3JfSZS9"
      },
      "execution_count": 60,
      "outputs": []
    },
    {
      "cell_type": "code",
      "source": [
        "consumer_key= '9c8Y5w9C4E9NjRrx8PeksHEBl'\n",
        "consumer_secret= 'ggkLMFPLsxvCxpjikmOnYXHH8dpDMYtYuMf50gUDqggPG1jUpO'\n",
        "access_token='1204346806261313536-R4k5bLZ00ZwrPHNc9j9No0va3i4Gep'\n",
        "access_token_secret='azoy1RrMJDUGEvqXvQT4kOVwClxQROW8YfjxuveRUTpJ2'"
      ],
      "metadata": {
        "id": "sHcvL4G0Sols"
      },
      "execution_count": 61,
      "outputs": []
    },
    {
      "cell_type": "code",
      "source": [
        "from google.colab import drive\n",
        "drive.mount('/content/drive')"
      ],
      "metadata": {
        "colab": {
          "base_uri": "https://localhost:8080/"
        },
        "id": "e9D7-HhGThfy",
        "outputId": "a8409a23-23f8-48bd-8296-98fbe56f8f1d"
      },
      "execution_count": 62,
      "outputs": [
        {
          "output_type": "stream",
          "name": "stdout",
          "text": [
            "Drive already mounted at /content/drive; to attempt to forcibly remount, call drive.mount(\"/content/drive\", force_remount=True).\n"
          ]
        }
      ]
    },
    {
      "cell_type": "code",
      "source": [
        "auth = tweepy.OAuthHandler(consumer_key, consumer_secret)\n",
        "auth.set_access_token(access_token, access_token_secret)\n",
        "\n",
        "api = tweepy.API(auth)\n",
        "\n",
        "csvFile = open('/content/drive/MyDrive/MyDrive/MachineLearning/datasetapril.csv', 'a')\n",
        "csvWriter = csv.writer(csvFile)\n",
        "\n",
        "for tweet in tweepy.Cursor(api.search_tweets, lang=\"id\", q=\"IKN\", tweet_mode=\"extended\").items(1000):\n",
        "  if not (hasattr(tweet, 'retweeted_status')):\n",
        "    csvWriter.writerow([tweet.user.screen_name, tweet.id,\n",
        "    tweet.full_text.replace(\"/n\", \"\"), tweet.created_at])\n",
        "\n",
        "csvFile.close()"
      ],
      "metadata": {
        "id": "DQkf2MnRT0XH"
      },
      "execution_count": 65,
      "outputs": []
    }
  ]
}